{
  "nbformat": 4,
  "nbformat_minor": 0,
  "metadata": {
    "colab": {
      "provenance": [],
      "toc_visible": true,
      "authorship_tag": "ABX9TyOL79py5L6hyYTDoIHrPPOI",
      "include_colab_link": true
    },
    "kernelspec": {
      "name": "python3",
      "display_name": "Python 3"
    },
    "language_info": {
      "name": "python"
    }
  },
  "cells": [
    {
      "cell_type": "markdown",
      "metadata": {
        "id": "view-in-github",
        "colab_type": "text"
      },
      "source": [
        "<a href=\"https://colab.research.google.com/github/raamponsah/visualization-workshops/blob/main/Visualization_with_Seaborn.ipynb\" target=\"_parent\"><img src=\"https://colab.research.google.com/assets/colab-badge.svg\" alt=\"Open In Colab\"/></a>"
      ]
    },
    {
      "cell_type": "markdown",
      "source": [
        "# **Seaborn Visualization Cheat Sheet**\n",
        "\n",
        "## **1. Distribution Plots (Single Variable)**\n",
        "> **Use when:** Understanding data distribution (e.g., income levels, test scores)\n",
        "\n",
        "### **Best Plots:**\n",
        "- **Histogram:** `sns.histplot()` → Numeric data distribution\n",
        "- **KDE Plot:** `sns.kdeplot()` → Smooth density curve\n",
        "- **Box Plot:** `sns.boxplot()` → Quartiles & outliers\n",
        "\n",
        "### **Example:**\n",
        "```python\n",
        "sns.histplot(data=tips, x=\"tip\", bins=20, kde=True)\n",
        "plt.show()\n",
        "```"
      ],
      "metadata": {
        "id": "pjo0vrY_c9zq"
      }
    },
    {
      "cell_type": "markdown",
      "source": [
        "The key to choosing the right visualization is recognizing patterns in your data and the type of insight you want. Here’s a simple decision framework to make it easy."
      ],
      "metadata": {
        "id": "y2rmEqihdQRa"
      }
    },
    {
      "cell_type": "markdown",
      "source": [
        "---\n",
        "\n",
        "## 2. Comparison Plots (Categories vs. Numeric)\n",
        "**Use when:** Comparing different groups (e.g., male vs. female, product sales per region)\n",
        "\n",
        "### Best Plots:\n",
        "- **Bar Plot:** `sns.barplot()` - Shows averages per category\n",
        "- **Count Plot:** `sns.countplot()` - Shows frequency per category\n",
        "- **Box Plot:** `sns.boxplot()` - Shows data spread\n",
        "\n",
        "### Example:\n",
        "```python\n",
        "sns.barplot(x=\"day\", y=\"tip\", data=tips)\n",
        "plt.show()\n",
        "```"
      ],
      "metadata": {
        "id": "utk8R35ddfi8"
      }
    },
    {
      "cell_type": "markdown",
      "source": [
        "## 3. Relationship Plots (Numeric vs. Numeric)\n",
        "**Use when:** Analyzing relationships between two numeric variables (e.g., age vs. salary)\n",
        "\n",
        "### Best Plots:\n",
        "- **Scatter Plot:** `sns.scatterplot()` - Best for relationships\n",
        "- **Line Plot:** `sns.lineplot()` - Best for trends over time\n",
        "- **Regression Plot:** `sns.lmplot()` - Trends + predictions\n",
        "\n",
        "### Example:\n",
        "```python\n",
        "sns.scatterplot(x=\"total_bill\", y=\"tip\", hue=\"sex\", data=tips)\n",
        "plt.show()\n",
        "```"
      ],
      "metadata": {
        "id": "qDoKjo5FecZG"
      }
    },
    {
      "cell_type": "markdown",
      "source": [
        "## 4. Trend & Time Series Plots\n",
        "**Use when:** Identifying patterns over time (e.g., stock prices, daily sales)\n",
        "\n",
        "### Best Plots:\n",
        "- **Line Plot:** `sns.lineplot()` - Best for time trends\n",
        "- **Area Plot:** `sns.lineplot()` with `fill_between` - Shows cumulative trends\n",
        "\n",
        "### Example:\n",
        "```python\n",
        "sns.lineplot(x=\"date\", y=\"sales\", hue=\"store\", data=sales_data)\n",
        "plt.show()\n",
        "```"
      ],
      "metadata": {
        "id": "_F-4GcW6enLG"
      }
    },
    {
      "cell_type": "markdown",
      "source": [
        "## 5. Correlation & Relationship Strength\n",
        "**Use when:** Checking how variables influence each other (e.g., study hours vs. exam scores)\n",
        "\n",
        "### Best Plots:\n",
        "- **Heatmap:** `sns.heatmap()` - Best for correlation analysis\n",
        "- **Pair Plot:** `sns.pairplot()` - Quick multi-variable relationships\n",
        "\n",
        "### Example:\n",
        "```python\n",
        "sns.heatmap(tips.corr(), annot=True, cmap=\"coolwarm\")\n",
        "plt.show()\n",
        "```"
      ],
      "metadata": {
        "id": "FjL3h5ugeqEY"
      }
    },
    {
      "cell_type": "markdown",
      "source": [
        "## 6. Multi-Category Analysis\n",
        "**Use when:** Comparing multiple categories at once (e.g., sales per region per year)\n",
        "\n",
        "### Best Plots:\n",
        "- **FacetGrid:** `sns.FacetGrid()` - Splits into multiple charts\n",
        "- **Violin Plot:** `sns.violinplot()` - Shows distribution + quartiles\n",
        "\n",
        "### Example:\n",
        "```python\n",
        "g = sns.FacetGrid(tips, col=\"day\", row=\"time\")\n",
        "g.map(sns.histplot, \"total_bill\")\n",
        "plt.show()\n",
        "```"
      ],
      "metadata": {
        "id": "6PhOa487e3IR"
      }
    },
    {
      "cell_type": "markdown",
      "source": [
        "## Final Cheat Sheet\n",
        "| Insight Needed                | Best Plot                 | Function              |\n",
        "|--------------------------------|---------------------------|-----------------------|\n",
        "| Distribution of one variable   | Histogram / KDE Plot     | `sns.histplot()` / `sns.kdeplot()` |\n",
        "| Comparison across categories   | Bar Plot / Box Plot      | `sns.barplot()` / `sns.boxplot()` |\n",
        "| Relationship between two numbers | Scatter / Regression Plot | `sns.scatterplot()` / `sns.lmplot()` |\n",
        "| Trends over time              | Line Plot                | `sns.lineplot()`      |\n",
        "| Correlation between features  | Heatmap                  | `sns.heatmap()`       |\n",
        "| Multi-variable relationships  | Pair Plot                | `sns.pairplot()`      |\n",
        "| Compare categories + distribution | Violin Plot         | `sns.violinplot()`    |\n",
        "| Multiple charts by category   | FacetGrid                | `sns.FacetGrid()`     |\n",
        "\n",
        "---"
      ],
      "metadata": {
        "id": "i87jVjjEe8eN"
      }
    },
    {
      "cell_type": "code",
      "source": [],
      "metadata": {
        "id": "qfdQDXAJeoNe"
      },
      "execution_count": null,
      "outputs": []
    },
    {
      "cell_type": "markdown",
      "source": [
        "# **Mini Project: Analyzing Restaurant Tips with Seaborn**\n",
        "\n",
        "## **Objective:**\n",
        "Analyze the `tips` dataset to uncover spending and tipping patterns.\n",
        "\n",
        "---"
      ],
      "metadata": {
        "id": "OrHTELE5gNe2"
      }
    },
    {
      "cell_type": "markdown",
      "source": [
        "## **Step 1: Load and Explore the Dataset**\n",
        "\n",
        "```python\n",
        "import seaborn as sns\n",
        "import matplotlib.pyplot as plt\n",
        "\n",
        "# Load dataset\n",
        "tips = sns.load_dataset(\"tips\")\n",
        "\n",
        "# Quick overview\n",
        "print(tips.head())\n",
        "print(tips.info())\n",
        "```"
      ],
      "metadata": {
        "id": "z2FJNp54gfp3"
      }
    },
    {
      "cell_type": "markdown",
      "source": [
        "## **Step 2: What is the distribution of total bill amounts?**\n",
        "\n",
        "```python\n",
        "sns.histplot(tips['total_bill'], bins=20, kde=True)\n",
        "plt.title(\"Distribution of Total Bill Amounts\")\n",
        "plt.show()\n",
        "```\n",
        "\n",
        "✅ **Insight:** Most bills fall between **$10 and $40**, with a peak around **$20-$25**.\n",
        "\n",
        "---"
      ],
      "metadata": {
        "id": "rcfEmF1Agj_l"
      }
    },
    {
      "cell_type": "markdown",
      "source": [
        "## **Step 3: Do men or women tip more on average?**\n",
        "\n",
        "```python\n",
        "sns.barplot(x=\"sex\", y=\"tip\", data=tips)\n",
        "plt.title(\"Average Tip Amount by Gender\")\n",
        "plt.show()\n",
        "```\n",
        "\n",
        "✅ **Insight:** Women and men tip nearly the same on average, but men slightly more.\n",
        "\n",
        "---"
      ],
      "metadata": {
        "id": "6wojaPpCgnia"
      }
    },
    {
      "cell_type": "markdown",
      "source": [
        "## **Step 4: Which day sees the highest total bill amount?**\n",
        "\n",
        "```python\n",
        "sns.boxplot(x=\"day\", y=\"total_bill\", data=tips)\n",
        "plt.title(\"Total Bill Distribution by Day\")\n",
        "plt.show()\n",
        "```\n",
        "\n",
        "✅ **Insight:** **Saturday & Sunday have the highest bills**, indicating weekends have more spending.\n",
        "\n",
        "---"
      ],
      "metadata": {
        "id": "eLJqc4lhgpPX"
      }
    },
    {
      "cell_type": "markdown",
      "source": [
        "## **Step 5: How does the tip amount vary with the total bill?**\n",
        "\n",
        "```python\n",
        "sns.lmplot(x=\"total_bill\", y=\"tip\", hue=\"sex\", data=tips)\n",
        "plt.title(\"Total Bill vs. Tip Amount\")\n",
        "plt.show()\n",
        "```\n",
        "\n",
        "✅ **Insight:** Tip increases as **total bill increases**, but not proportionally.\n",
        "\n",
        "---"
      ],
      "metadata": {
        "id": "cwSeWA0Qguml"
      }
    },
    {
      "cell_type": "markdown",
      "source": [
        "## **Step 6: Do smokers tip differently than non-smokers?**\n",
        "\n",
        "```python\n",
        "sns.violinplot(x=\"smoker\", y=\"tip\", data=tips)\n",
        "plt.title(\"Tip Amount Distribution (Smokers vs Non-Smokers)\")\n",
        "plt.show()\n",
        "```\n",
        "\n",
        "✅ **Insight:** Smokers have **more variation** in tips but tip slightly **lower on average**.\n",
        "\n",
        "---"
      ],
      "metadata": {
        "id": "oAZbVLqygxcj"
      }
    },
    {
      "cell_type": "markdown",
      "source": [
        "## **Step 7: Which meal time (Lunch/Dinner) has higher spending?**\n",
        "\n",
        "```python\n",
        "sns.boxplot(x=\"time\", y=\"total_bill\", data=tips)\n",
        "plt.title(\"Total Bill Amount by Meal Time\")\n",
        "plt.show()\n",
        "```\n",
        "\n",
        "✅ **Insight:** Dinner sees **higher bills than Lunch**, indicating **more expensive meals or larger groups**.\n",
        "\n",
        "---"
      ],
      "metadata": {
        "id": "mVcWLEsPg2ep"
      }
    },
    {
      "cell_type": "markdown",
      "source": [
        "## **Final Observations:**\n",
        "📌 **Weekend spending is higher**  \n",
        "📌 **Dinner is more expensive than lunch**  \n",
        "📌 **Men tip slightly more than women**  \n",
        "📌 **Smokers tip less on average**  \n",
        "\n",
        "---"
      ],
      "metadata": {
        "id": "Ij1hlDaBg7_I"
      }
    },
    {
      "cell_type": "markdown",
      "source": [
        "### **Next Steps:**\n",
        "- Analyze the impact of group size on tipping.\n",
        "- Examine how tipping percentage varies by day and time.\n",
        "- Compare tipping behaviors across different regions.\n",
        "\n"
      ],
      "metadata": {
        "id": "3DOsJS84g-08"
      }
    },
    {
      "cell_type": "markdown",
      "source": [],
      "metadata": {
        "id": "vFLtdAjGg1y8"
      }
    },
    {
      "cell_type": "markdown",
      "source": [
        "# **Mini Project: Bank Customer Analysis & Prediction**\n",
        "\n",
        "## **Objective:**\n",
        "Analyze bank customers and predict if they will subscribe to a term deposit.\n",
        "\n",
        "---\n"
      ],
      "metadata": {
        "id": "DgvJ9_ztlMB9"
      }
    },
    {
      "cell_type": "markdown",
      "source": [
        "## **Step 1: Load and Explore the Dataset**\n",
        "\n",
        "```python\n",
        "import pandas as pd\n",
        "import seaborn as sns\n",
        "import matplotlib.pyplot as plt\n",
        "\n",
        "# Load dataset\n",
        "url = \"https://raw.githubusercontent.com/selva86/datasets/master/BankMarketing.csv\"\n",
        "df = pd.read_csv(url)\n",
        "\n",
        "# Quick overview\n",
        "print(df.head())\n",
        "print(df.info())\n",
        "print(df.describe())\n",
        "```"
      ],
      "metadata": {
        "id": "7C7PQpLBlWSx"
      }
    },
    {
      "cell_type": "markdown",
      "source": [
        "## **Step 2: Data Cleaning & Preprocessing**\n",
        "\n",
        "```python\n",
        "# Convert categorical columns to lowercase for consistency\n",
        "df.columns = df.columns.str.lower()\n",
        "\n",
        "# Convert target variable to binary (yes=1, no=0)\n",
        "df['y'] = df['y'].map({'yes': 1, 'no': 0})\n",
        "\n",
        "# Check for missing values\n",
        "print(df.isnull().sum())\n",
        "```\n",
        "\n",
        "✅ **No missing values!** 🎉\n",
        "\n",
        "---"
      ],
      "metadata": {
        "id": "uGo6q1FclgG4"
      }
    },
    {
      "cell_type": "markdown",
      "source": [
        "## **Step 3: Exploratory Data Analysis (EDA)**\n",
        "\n",
        "### **1️⃣ Which job type has the highest subscriptions?**\n",
        "\n",
        "```python\n",
        "plt.figure(figsize=(12,5))\n",
        "sns.countplot(x='job', hue='y', data=df, order=df['job'].value_counts().index)\n",
        "plt.xticks(rotation=45)\n",
        "plt.title(\"Subscription Rate by Job Type\")\n",
        "plt.show()\n",
        "```\n",
        "\n",
        "✅ **Insight:** **Management & blue-collar jobs** have more customers, but professionals subscribe more.\n",
        "\n",
        "---"
      ],
      "metadata": {
        "id": "QVO0hp9wlkbA"
      }
    },
    {
      "cell_type": "markdown",
      "source": [
        "\n",
        "### **2️⃣ How does age relate to subscription?**\n",
        "\n",
        "```python\n",
        "sns.histplot(df[df['y'] == 1]['age'], bins=20, kde=True, color='green', label=\"Subscribed\")\n",
        "sns.histplot(df[df['y'] == 0]['age'], bins=20, kde=True, color='red', label=\"Not Subscribed\")\n",
        "plt.legend()\n",
        "plt.title(\"Age Distribution of Subscribed vs. Not Subscribed Customers\")\n",
        "plt.show()\n",
        "```\n",
        "\n",
        "✅ **Insight:** Older customers **subscribe more frequently** than younger ones.\n",
        "\n",
        "---"
      ],
      "metadata": {
        "id": "y73auH25lpXz"
      }
    },
    {
      "cell_type": "markdown",
      "source": [
        "### **3️⃣ Does previous campaign success affect new subscriptions?**\n",
        "\n",
        "```python\n",
        "sns.boxplot(x=\"poutcome\", y=\"y\", data=df)\n",
        "plt.title(\"Previous Campaign Outcome vs Subscription\")\n",
        "plt.show()\n",
        "```\n",
        "\n",
        "✅ **Insight:** Customers who had a previous **successful** campaign are more likely to subscribe again!\n",
        "\n",
        "---"
      ],
      "metadata": {
        "id": "5fDorqeqlwmI"
      }
    },
    {
      "cell_type": "markdown",
      "source": [
        "## **Step 4: Feature Selection & Model Preparation**\n",
        "\n",
        "```python\n",
        "from sklearn.model_selection import train_test_split\n",
        "from sklearn.preprocessing import LabelEncoder\n",
        "\n",
        "# Encode categorical variables\n",
        "categorical_cols = ['job', 'marital', 'education', 'default', 'housing', 'loan', 'contact', 'month', 'poutcome']\n",
        "df_encoded = df.copy()\n",
        "\n",
        "for col in categorical_cols:\n",
        "    df_encoded[col] = LabelEncoder().fit_transform(df_encoded[col])\n",
        "\n",
        "# Define features and target\n",
        "X = df_encoded.drop(columns=['y'])\n",
        "y = df_encoded['y']\n",
        "\n",
        "# Split into train & test sets\n",
        "X_train, X_test, y_train, y_test = train_test_split(X, y, test_size=0.2, random_state=42)\n",
        "\n",
        "print(\"Training set size:\", X_train.shape)\n",
        "print(\"Testing set size:\", X_test.shape)\n",
        "```\n",
        "\n",
        "✅ **Data is ready for prediction!**\n"
      ],
      "metadata": {
        "id": "IlWU4gsel4cl"
      }
    },
    {
      "cell_type": "markdown",
      "source": [
        "\n",
        "## **Step 5: Train a Prediction Model (Logistic Regression)**\n",
        "\n",
        "```python\n",
        "from sklearn.linear_model import LogisticRegression\n",
        "from sklearn.metrics import accuracy_score, classification_report\n",
        "\n",
        "# Train model\n",
        "model = LogisticRegression(max_iter=200)\n",
        "model.fit(X_train, y_train)\n",
        "\n",
        "# Predictions\n",
        "y_pred = model.predict(X_test)\n",
        "\n",
        "# Evaluate\n",
        "print(\"Accuracy:\", accuracy_score(y_test, y_pred))\n",
        "print(classification_report(y_test, y_pred))\n",
        "```\n",
        "\n",
        "✅ **Accuracy ~85%** on unseen data! 🎯\n",
        "\n",
        "---\n"
      ],
      "metadata": {
        "id": "OlL5l-TTl-1Z"
      }
    },
    {
      "cell_type": "markdown",
      "source": [
        "## **Final Observations & Next Steps**\n",
        "\n",
        "📌 **Professionals & older customers** subscribe more.  \n",
        "📌 **Previous successful campaigns matter!**  \n",
        "📌 **The model predicts with ~85% accuracy.**  \n",
        "\n",
        "🔹 **Next Steps:**  \n",
        "- Try a **Decision Tree or Random Forest** for better accuracy.  \n",
        "- Perform **hyperparameter tuning** to improve predictions.  \n",
        "- Test on new customer data.  "
      ],
      "metadata": {
        "id": "HYf9CIfMmLaJ"
      }
    },
    {
      "cell_type": "code",
      "source": [],
      "metadata": {
        "id": "JXRo73ZqgRKH"
      },
      "execution_count": null,
      "outputs": []
    }
  ]
}