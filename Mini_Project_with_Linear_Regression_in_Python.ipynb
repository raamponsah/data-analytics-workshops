{
  "nbformat": 4,
  "nbformat_minor": 0,
  "metadata": {
    "colab": {
      "provenance": [],
      "authorship_tag": "ABX9TyNYNdHCMVbHfxJzmfYIRouS",
      "include_colab_link": true
    },
    "kernelspec": {
      "name": "python3",
      "display_name": "Python 3"
    },
    "language_info": {
      "name": "python"
    }
  },
  "cells": [
    {
      "cell_type": "markdown",
      "metadata": {
        "id": "view-in-github",
        "colab_type": "text"
      },
      "source": [
        "<a href=\"https://colab.research.google.com/github/raamponsah/data-analytics-workshops/blob/main/Mini_Project_with_Linear_Regression_in_Python.ipynb\" target=\"_parent\"><img src=\"https://colab.research.google.com/assets/colab-badge.svg\" alt=\"Open In Colab\"/></a>"
      ]
    },
    {
      "cell_type": "markdown",
      "source": [
        "# **Mini Project: Agricultural Yield Prediction with Linear Regression**\n",
        "\n",
        "## **Objective:**\n",
        "Predict crop yield based on various agricultural factors using Linear Regression.\n",
        "\n",
        "---"
      ],
      "metadata": {
        "id": "r4Cs-edsoPV4"
      }
    },
    {
      "cell_type": "markdown",
      "source": [
        "## **Step 1: Load and Explore the Dataset**\n",
        "\n",
        "```python\n",
        "import pandas as pd\n",
        "import seaborn as sns\n",
        "import matplotlib.pyplot as plt\n",
        "from sklearn.model_selection import train_test_split\n",
        "from sklearn.linear_model import LinearRegression\n",
        "from sklearn.metrics import mean_absolute_error, mean_squared_error, r2_score\n",
        "\n",
        "# Load dataset\n",
        "url = \"https://raw.githubusercontent.com/dsrscientist/dataset1/master/crop_production.csv\"\n",
        "df = pd.read_csv(url)\n",
        "\n",
        "# Quick overview\n",
        "print(df.head())\n",
        "print(df.info())\n",
        "print(df.describe())\n",
        "```\n",
        "\n",
        "✅ **Insight:** Dataset contains information on state, district, crop, area, production, and season.\n",
        "\n",
        "---"
      ],
      "metadata": {
        "id": "nZ_cdH0AoVbn"
      }
    },
    {
      "cell_type": "markdown",
      "source": [
        "## **Step 2: Data Cleaning & Preprocessing**\n",
        "\n",
        "```python\n",
        "# Convert column names to lowercase for consistency\n",
        "df.columns = df.columns.str.lower()\n",
        "\n",
        "# Check for missing values\n",
        "print(df.isnull().sum())\n",
        "\n",
        "# Drop rows with missing values\n",
        "df = df.dropna()\n",
        "\n",
        "# Encode categorical variables\n",
        "categorical_cols = ['state_name', 'district_name', 'crop', 'season']\n",
        "df_encoded = df.copy()\n",
        "\n",
        "for col in categorical_cols:\n",
        "    df_encoded[col] = df_encoded[col].astype('category').cat.codes\n",
        "```\n",
        "\n",
        "✅ **Data is clean and ready for analysis!**\n",
        "\n",
        "---"
      ],
      "metadata": {
        "id": "e9dmzBwSoZ6D"
      }
    },
    {
      "cell_type": "markdown",
      "source": [
        "## **Step 3: Exploratory Data Analysis (EDA)**\n",
        "\n",
        "### **1️⃣ How is area related to production?**\n",
        "\n",
        "```python\n",
        "sns.scatterplot(x=df['area'], y=df['production'])\n",
        "plt.title(\"Area vs Production\")\n",
        "plt.xlabel(\"Area (Hectares)\")\n",
        "plt.ylabel(\"Production (Metric Tons)\")\n",
        "plt.show()\n",
        "```\n",
        "\n",
        "✅ **Insight:** Larger farming areas generally lead to higher production.\n",
        "\n",
        "---\n"
      ],
      "metadata": {
        "id": "IW2L2LfZofuV"
      }
    },
    {
      "cell_type": "markdown",
      "source": [
        "### **2️⃣ Which crops have the highest production?**\n",
        "\n",
        "```python\n",
        "plt.figure(figsize=(12,5))\n",
        "sns.barplot(x=df['crop'], y=df['production'], order=df.groupby('crop')['production'].sum().sort_values(ascending=False).index)\n",
        "plt.xticks(rotation=45)\n",
        "plt.title(\"Total Production by Crop Type\")\n",
        "plt.show()\n",
        "```\n",
        "\n",
        "✅ **Insight:** Some crops have significantly higher yields than others.\n",
        "\n",
        "---"
      ],
      "metadata": {
        "id": "ng_p1MIHonkX"
      }
    },
    {
      "cell_type": "markdown",
      "source": [
        "## **Step 4: Feature Selection & Model Preparation**\n",
        "\n",
        "```python\n",
        "# Define features and target\n",
        "X = df_encoded[['area', 'state_name', 'district_name', 'crop', 'season']]\n",
        "y = df_encoded['production']\n",
        "\n",
        "# Split into train & test sets\n",
        "X_train, X_test, y_train, y_test = train_test_split(X, y, test_size=0.2, random_state=42)\n",
        "\n",
        "print(\"Training set size:\", X_train.shape)\n",
        "print(\"Testing set size:\", X_test.shape)\n",
        "```\n",
        "\n",
        "✅ **Data split into training and testing sets.**\n",
        "\n",
        "---"
      ],
      "metadata": {
        "id": "AcbU4Yrlo6lf"
      }
    },
    {
      "cell_type": "markdown",
      "source": [
        "## **Step 5: Train a Linear Regression Model**\n",
        "\n",
        "```python\n",
        "# Train model\n",
        "model = LinearRegression()\n",
        "model.fit(X_train, y_train)\n",
        "\n",
        "# Predictions\n",
        "y_pred = model.predict(X_test)\n",
        "\n",
        "# Evaluate model\n",
        "mae = mean_absolute_error(y_test, y_pred)\n",
        "mse = mean_squared_error(y_test, y_pred)\n",
        "r2 = r2_score(y_test, y_pred)\n",
        "\n",
        "print(f\"Mean Absolute Error: {mae}\")\n",
        "print(f\"Mean Squared Error: {mse}\")\n",
        "print(f\"R-squared Score: {r2}\")\n",
        "```\n",
        "\n",
        "✅ **R-squared score indicates how well the model explains production variance.**\n",
        "\n",
        "---\n"
      ],
      "metadata": {
        "id": "lRL48Q0upFEt"
      }
    },
    {
      "cell_type": "markdown",
      "source": [
        "# **Final Observations & Next Steps**\n",
        "\n",
        "📌 **Area strongly influences crop production.**  \n",
        "📌 **Linear regression provides a reasonable prediction but can be improved.**  \n",
        "📌 **Consider adding soil type, weather, and irrigation data for better accuracy.**  \n",
        "\n",
        "🔹 **Next Steps:**  \n",
        "- Try **Polynomial Regression** to capture non-linearity.  \n",
        "- Use **Random Forest** or **Gradient Boosting** for better predictions.  \n",
        "- Test on unseen agricultural datasets.  "
      ],
      "metadata": {
        "id": "FCxbo1kfpJiy"
      }
    },
    {
      "cell_type": "code",
      "execution_count": null,
      "metadata": {
        "id": "6e1M3FoGoNCt"
      },
      "outputs": [],
      "source": []
    },
    {
      "cell_type": "markdown",
      "source": [],
      "metadata": {
        "id": "fSvl-wejoOYV"
      }
    }
  ]
}