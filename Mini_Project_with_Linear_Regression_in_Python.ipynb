{
  "nbformat": 4,
  "nbformat_minor": 0,
  "metadata": {
    "colab": {
      "provenance": [],
      "authorship_tag": "ABX9TyP+YbHmn8Pp/jXfE7J5uliH",
      "include_colab_link": true
    },
    "kernelspec": {
      "name": "python3",
      "display_name": "Python 3"
    },
    "language_info": {
      "name": "python"
    }
  },
  "cells": [
    {
      "cell_type": "markdown",
      "metadata": {
        "id": "view-in-github",
        "colab_type": "text"
      },
      "source": [
        "<a href=\"https://colab.research.google.com/github/raamponsah/data-analytics-workshops/blob/main/Mini_Project_with_Linear_Regression_in_Python.ipynb\" target=\"_parent\"><img src=\"https://colab.research.google.com/assets/colab-badge.svg\" alt=\"Open In Colab\"/></a>"
      ]
    },
    {
      "cell_type": "markdown",
      "source": [
        "# **Mini Project: Agricultural Yield Prediction with Linear Regression**\n",
        "\n",
        "## **Objective:**\n",
        "Predict crop yield based on various agricultural factors using Linear Regression.\n",
        "\n",
        "---"
      ],
      "metadata": {
        "id": "r4Cs-edsoPV4"
      }
    },
    {
      "cell_type": "markdown",
      "source": [
        "## **Step 1: Load and Explore the Dataset**\n",
        "\n",
        "```python\n",
        "import pandas as pd\n",
        "import seaborn as sns\n",
        "import matplotlib.pyplot as plt\n",
        "from sklearn.model_selection import train_test_split\n",
        "from sklearn.linear_model import LinearRegression\n",
        "from sklearn.metrics import mean_absolute_error, mean_squared_error, r2_score\n",
        "\n",
        "# Load dataset\n",
        "url = \"crop_yield.csv\"\n",
        "df = pd.read_csv(url)\n",
        "\n",
        "# Quick overview\n",
        "print(df.head())\n",
        "print(df.info())\n",
        "print(df.describe())\n",
        "```\n",
        "\n",
        "✅ **Insight:** Dataset contains information on state, district, crop, area, production, and season.\n",
        "\n",
        "---"
      ],
      "metadata": {
        "id": "nZ_cdH0AoVbn"
      }
    },
    {
      "cell_type": "code",
      "source": [
        "import pandas as pd\n",
        "import seaborn as sns\n",
        "import matplotlib.pyplot as plt\n",
        "from sklearn.model_selection import train_test_split\n",
        "from sklearn.linear_model import LinearRegression\n",
        "from sklearn.metrics import mean_absolute_error, mean_squared_error, r2_score\n",
        "\n",
        "# Load dataset\n",
        "url = \"crop_yield.csv\"\n",
        "df = pd.read_csv(url)\n",
        "\n",
        "# Quick overview\n",
        "print(df.head())\n",
        "print(df.info())\n",
        "print(df.describe())"
      ],
      "metadata": {
        "colab": {
          "base_uri": "https://localhost:8080/"
        },
        "id": "z9rFX6C_7GwL",
        "outputId": "700aa0cf-b492-48f2-a6a0-ddad342e0375"
      },
      "execution_count": 1,
      "outputs": [
        {
          "output_type": "stream",
          "name": "stdout",
          "text": [
            "           Crop  Crop_Year       Season  State     Area  Production  \\\n",
            "0      Arecanut       1997  Whole Year   Assam  73814.0       56708   \n",
            "1     Arhar/Tur       1997  Kharif       Assam   6637.0        4685   \n",
            "2   Castor seed       1997  Kharif       Assam    796.0          22   \n",
            "3      Coconut        1997  Whole Year   Assam  19656.0   126905000   \n",
            "4  Cotton(lint)       1997  Kharif       Assam   1739.0         794   \n",
            "\n",
            "   Annual_Rainfall  Fertilizer  Pesticide        Yield  \n",
            "0           2051.4  7024878.38   22882.34     0.796087  \n",
            "1           2051.4   631643.29    2057.47     0.710435  \n",
            "2           2051.4    75755.32     246.76     0.238333  \n",
            "3           2051.4  1870661.52    6093.36  5238.051739  \n",
            "4           2051.4   165500.63     539.09     0.420909  \n",
            "<class 'pandas.core.frame.DataFrame'>\n",
            "RangeIndex: 19689 entries, 0 to 19688\n",
            "Data columns (total 10 columns):\n",
            " #   Column           Non-Null Count  Dtype  \n",
            "---  ------           --------------  -----  \n",
            " 0   Crop             19689 non-null  object \n",
            " 1   Crop_Year        19689 non-null  int64  \n",
            " 2   Season           19689 non-null  object \n",
            " 3   State            19689 non-null  object \n",
            " 4   Area             19689 non-null  float64\n",
            " 5   Production       19689 non-null  int64  \n",
            " 6   Annual_Rainfall  19689 non-null  float64\n",
            " 7   Fertilizer       19689 non-null  float64\n",
            " 8   Pesticide        19689 non-null  float64\n",
            " 9   Yield            19689 non-null  float64\n",
            "dtypes: float64(5), int64(2), object(3)\n",
            "memory usage: 1.5+ MB\n",
            "None\n",
            "          Crop_Year          Area    Production  Annual_Rainfall  \\\n",
            "count  19689.000000  1.968900e+04  1.968900e+04     19689.000000   \n",
            "mean    2009.127584  1.799266e+05  1.643594e+07      1437.755177   \n",
            "std        6.498099  7.328287e+05  2.630568e+08       816.909589   \n",
            "min     1997.000000  5.000000e-01  0.000000e+00       301.300000   \n",
            "25%     2004.000000  1.390000e+03  1.393000e+03       940.700000   \n",
            "50%     2010.000000  9.317000e+03  1.380400e+04      1247.600000   \n",
            "75%     2015.000000  7.511200e+04  1.227180e+05      1643.700000   \n",
            "max     2020.000000  5.080810e+07  6.326000e+09      6552.700000   \n",
            "\n",
            "         Fertilizer     Pesticide         Yield  \n",
            "count  1.968900e+04  1.968900e+04  19689.000000  \n",
            "mean   2.410331e+07  4.884835e+04     79.954009  \n",
            "std    9.494600e+07  2.132874e+05    878.306193  \n",
            "min    5.417000e+01  9.000000e-02      0.000000  \n",
            "25%    1.880146e+05  3.567000e+02      0.600000  \n",
            "50%    1.234957e+06  2.421900e+03      1.030000  \n",
            "75%    1.000385e+07  2.004170e+04      2.388889  \n",
            "max    4.835407e+09  1.575051e+07  21105.000000  \n"
          ]
        }
      ]
    },
    {
      "cell_type": "markdown",
      "source": [
        "## **Step 2: Data Cleaning & Preprocessing**\n",
        "\n",
        "```python\n",
        "# Convert column names to lowercase for consistency\n",
        "df.columns = df.columns.str.lower()\n",
        "\n",
        "# Check for missing values\n",
        "print(df.isnull().sum())\n",
        "\n",
        "# Drop rows with missing values\n",
        "df = df.dropna()\n",
        "\n",
        "# Encode categorical variables\n",
        "categorical_cols = ['state_name', 'district_name', 'crop', 'season']\n",
        "df_encoded = df.copy()\n",
        "\n",
        "for col in categorical_cols:\n",
        "    df_encoded[col] = df_encoded[col].astype('category').cat.codes\n",
        "```\n",
        "\n",
        "✅ **Data is clean and ready for analysis!**\n",
        "\n",
        "---"
      ],
      "metadata": {
        "id": "e9dmzBwSoZ6D"
      }
    },
    {
      "cell_type": "markdown",
      "source": [
        "## **Step 3: Exploratory Data Analysis (EDA)**\n",
        "\n",
        "### **1️⃣ How is area related to production?**\n",
        "\n",
        "```python\n",
        "sns.scatterplot(x=df['area'], y=df['production'])\n",
        "plt.title(\"Area vs Production\")\n",
        "plt.xlabel(\"Area (Hectares)\")\n",
        "plt.ylabel(\"Production (Metric Tons)\")\n",
        "plt.show()\n",
        "```\n",
        "\n",
        "✅ **Insight:** Larger farming areas generally lead to higher production.\n",
        "\n",
        "---\n"
      ],
      "metadata": {
        "id": "IW2L2LfZofuV"
      }
    },
    {
      "cell_type": "markdown",
      "source": [
        "### **2️⃣ Which crops have the highest production?**\n",
        "\n",
        "```python\n",
        "plt.figure(figsize=(12,5))\n",
        "sns.barplot(x=df['crop'], y=df['production'], order=df.groupby('crop')['production'].sum().sort_values(ascending=False).index)\n",
        "plt.xticks(rotation=45)\n",
        "plt.title(\"Total Production by Crop Type\")\n",
        "plt.show()\n",
        "```\n",
        "\n",
        "✅ **Insight:** Some crops have significantly higher yields than others.\n",
        "\n",
        "---"
      ],
      "metadata": {
        "id": "ng_p1MIHonkX"
      }
    },
    {
      "cell_type": "markdown",
      "source": [
        "## **Step 4: Feature Selection & Model Preparation**\n",
        "\n",
        "```python\n",
        "# Define features and target\n",
        "X = df_encoded[['area', 'state_name', 'district_name', 'crop', 'season']]\n",
        "y = df_encoded['production']\n",
        "\n",
        "# Split into train & test sets\n",
        "X_train, X_test, y_train, y_test = train_test_split(X, y, test_size=0.2, random_state=42)\n",
        "\n",
        "print(\"Training set size:\", X_train.shape)\n",
        "print(\"Testing set size:\", X_test.shape)\n",
        "```\n",
        "\n",
        "✅ **Data split into training and testing sets.**\n",
        "\n",
        "---"
      ],
      "metadata": {
        "id": "AcbU4Yrlo6lf"
      }
    },
    {
      "cell_type": "markdown",
      "source": [
        "## **Step 5: Train a Linear Regression Model**\n",
        "\n",
        "```python\n",
        "# Train model\n",
        "model = LinearRegression()\n",
        "model.fit(X_train, y_train)\n",
        "\n",
        "# Predictions\n",
        "y_pred = model.predict(X_test)\n",
        "\n",
        "# Evaluate model\n",
        "mae = mean_absolute_error(y_test, y_pred)\n",
        "mse = mean_squared_error(y_test, y_pred)\n",
        "r2 = r2_score(y_test, y_pred)\n",
        "\n",
        "print(f\"Mean Absolute Error: {mae}\")\n",
        "print(f\"Mean Squared Error: {mse}\")\n",
        "print(f\"R-squared Score: {r2}\")\n",
        "```\n",
        "\n",
        "✅ **R-squared score indicates how well the model explains production variance.**\n",
        "\n",
        "---\n"
      ],
      "metadata": {
        "id": "lRL48Q0upFEt"
      }
    },
    {
      "cell_type": "markdown",
      "source": [
        "# **Final Observations & Next Steps**\n",
        "\n",
        "📌 **Area strongly influences crop production.**  \n",
        "📌 **Linear regression provides a reasonable prediction but can be improved.**  \n",
        "📌 **Consider adding soil type, weather, and irrigation data for better accuracy.**  \n",
        "\n",
        "🔹 **Next Steps:**  \n",
        "- Try **Polynomial Regression** to capture non-linearity.  \n",
        "- Use **Random Forest** or **Gradient Boosting** for better predictions.  \n",
        "- Test on unseen agricultural datasets.  "
      ],
      "metadata": {
        "id": "FCxbo1kfpJiy"
      }
    },
    {
      "cell_type": "code",
      "execution_count": null,
      "metadata": {
        "id": "6e1M3FoGoNCt"
      },
      "outputs": [],
      "source": []
    },
    {
      "cell_type": "markdown",
      "source": [],
      "metadata": {
        "id": "fSvl-wejoOYV"
      }
    }
  ]
}